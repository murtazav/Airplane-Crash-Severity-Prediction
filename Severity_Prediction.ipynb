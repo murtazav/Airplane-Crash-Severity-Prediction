{
  "nbformat": 4,
  "nbformat_minor": 0,
  "metadata": {
    "colab": {
      "name": "Severity Prediction.ipynb",
      "provenance": [],
      "collapsed_sections": [],
      "toc_visible": true,
      "authorship_tag": "ABX9TyMPqxIw1S7mRVupk6H52quF",
      "include_colab_link": true
    },
    "kernelspec": {
      "name": "python3",
      "display_name": "Python 3"
    },
    "accelerator": "GPU"
  },
  "cells": [
    {
      "cell_type": "markdown",
      "metadata": {
        "id": "view-in-github",
        "colab_type": "text"
      },
      "source": [
        "<a href=\"https://colab.research.google.com/github/murtazav/Airplane-Crash-Severity-Prediction/blob/master/Severity_Prediction.ipynb\" target=\"_parent\"><img src=\"https://colab.research.google.com/assets/colab-badge.svg\" alt=\"Open In Colab\"/></a>"
      ]
    },
    {
      "cell_type": "code",
      "metadata": {
        "id": "oKFUUQxi8vQz",
        "colab_type": "code",
        "outputId": "19bda9e8-844a-4a47-8ff9-8bdbcb9870f2",
        "colab": {
          "base_uri": "https://localhost:8080/",
          "height": 125
        }
      },
      "source": [
        "from google.colab import drive\n",
        "drive.mount('/content/drive')"
      ],
      "execution_count": 0,
      "outputs": [
        {
          "output_type": "stream",
          "text": [
            "Go to this URL in a browser: https://accounts.google.com/o/oauth2/auth?client_id=947318989803-6bn6qk8qdgf4n4g3pfee6491hc0brc4i.apps.googleusercontent.com&redirect_uri=urn%3aietf%3awg%3aoauth%3a2.0%3aoob&response_type=code&scope=email%20https%3a%2f%2fwww.googleapis.com%2fauth%2fdocs.test%20https%3a%2f%2fwww.googleapis.com%2fauth%2fdrive%20https%3a%2f%2fwww.googleapis.com%2fauth%2fdrive.photos.readonly%20https%3a%2f%2fwww.googleapis.com%2fauth%2fpeopleapi.readonly\n",
            "\n",
            "Enter your authorization code:\n",
            "··········\n",
            "Mounted at /content/drive\n"
          ],
          "name": "stdout"
        }
      ]
    },
    {
      "cell_type": "code",
      "metadata": {
        "id": "KEDy-Gyk8wh3",
        "colab_type": "code",
        "colab": {}
      },
      "source": [
        "from fastai.tabular import *\n",
        "import pandas as pd"
      ],
      "execution_count": 0,
      "outputs": []
    },
    {
      "cell_type": "code",
      "metadata": {
        "id": "MlZlMV_B9RTU",
        "colab_type": "code",
        "outputId": "4bcd6859-b15c-45c5-ea6f-4c347892e937",
        "colab": {
          "base_uri": "https://localhost:8080/",
          "height": 274
        }
      },
      "source": [
        "doc(untar_data)"
      ],
      "execution_count": 0,
      "outputs": [
        {
          "output_type": "display_data",
          "data": {
            "text/html": [
              "<h4 id=\"untar_data\" class=\"doc_header\"><code>untar_data</code><a href=\"https://github.com/fastai/fastai/blob/master/fastai/datasets.py#L221\" class=\"source_link\" style=\"float:right\">[source]</a><a class=\"source_link\" data-toggle=\"collapse\" data-target=\"#untar_data-pytest\" style=\"float:right; padding-right:10px\">[test]</a></h4><blockquote><p><code>untar_data</code>(<strong><code>url</code></strong>:<code>str</code>, <strong><code>fname</code></strong>:<code>PathOrStr</code>=<strong><em><code>None</code></em></strong>, <strong><code>dest</code></strong>:<code>PathOrStr</code>=<strong><em><code>None</code></em></strong>, <strong><code>data</code></strong>=<strong><em><code>True</code></em></strong>, <strong><code>force_download</code></strong>=<strong><em><code>False</code></em></strong>) → <code>Path</code></p>\n",
              "</blockquote>\n",
              "<div class=\"collapse\" id=\"untar_data-pytest\"><div class=\"card card-body pytest_card\"><a type=\"button\" data-toggle=\"collapse\" data-target=\"#untar_data-pytest\" class=\"close\" aria-label=\"Close\"><span aria-hidden=\"true\">&times;</span></a><p>Tests found for <code>untar_data</code>:</p><ul><li><code>pytest -sv tests/test_datasets.py::test_load_config</code> <a href=\"https://github.com/fastai/fastai/blob/master/tests/test_datasets.py#L26\" class=\"source_link\" style=\"float:right\">[source]</a></li><li><code>pytest -sv tests/test_datasets.py::test_user_config</code> <a href=\"https://github.com/fastai/fastai/blob/master/tests/test_datasets.py#L42\" class=\"source_link\" style=\"float:right\">[source]</a></li><li><code>pytest -sv tests/test_vision_data.py::test_trunc_download</code> <a href=\"https://github.com/fastai/fastai/blob/master/tests/test_vision_data.py#L170\" class=\"source_link\" style=\"float:right\">[source]</a></li></ul><p>To run tests please refer to this <a href=\"/dev/test.html#quick-guide\">guide</a>.</p></div></div><p>Download <code>url</code> to <code>fname</code> if <code>dest</code> doesn't exist, and un-tgz to folder <code>dest</code>.</p>\n",
              "<p><a href=\"https://docs.fast.ai/datasets.html#untar_data\" target=\"_blank\" rel=\"noreferrer noopener\">Show in docs</a></p>\n"
            ],
            "text/plain": [
              "<IPython.core.display.HTML object>"
            ]
          },
          "metadata": {
            "tags": []
          }
        }
      ]
    },
    {
      "cell_type": "code",
      "metadata": {
        "id": "MbiLOxud8_zn",
        "colab_type": "code",
        "colab": {}
      },
      "source": [
        "path = datapath4file('/content/drive/My Drive/Airlines')\n",
        "df = pd.read_csv(path/'train.csv')"
      ],
      "execution_count": 0,
      "outputs": []
    },
    {
      "cell_type": "code",
      "metadata": {
        "id": "zSfPUT699jxI",
        "colab_type": "code",
        "outputId": "d71d484e-4439-4178-83da-3cb537421f7a",
        "colab": {
          "base_uri": "https://localhost:8080/",
          "height": 217
        }
      },
      "source": [
        "df.head()"
      ],
      "execution_count": 0,
      "outputs": [
        {
          "output_type": "execute_result",
          "data": {
            "text/html": [
              "<div>\n",
              "<style scoped>\n",
              "    .dataframe tbody tr th:only-of-type {\n",
              "        vertical-align: middle;\n",
              "    }\n",
              "\n",
              "    .dataframe tbody tr th {\n",
              "        vertical-align: top;\n",
              "    }\n",
              "\n",
              "    .dataframe thead th {\n",
              "        text-align: right;\n",
              "    }\n",
              "</style>\n",
              "<table border=\"1\" class=\"dataframe\">\n",
              "  <thead>\n",
              "    <tr style=\"text-align: right;\">\n",
              "      <th></th>\n",
              "      <th>Severity</th>\n",
              "      <th>Safety_Score</th>\n",
              "      <th>Days_Since_Inspection</th>\n",
              "      <th>Total_Safety_Complaints</th>\n",
              "      <th>Control_Metric</th>\n",
              "      <th>Turbulence_In_gforces</th>\n",
              "      <th>Cabin_Temperature</th>\n",
              "      <th>Accident_Type_Code</th>\n",
              "      <th>Max_Elevation</th>\n",
              "      <th>Violations</th>\n",
              "      <th>Adverse_Weather_Metric</th>\n",
              "      <th>Accident_ID</th>\n",
              "    </tr>\n",
              "  </thead>\n",
              "  <tbody>\n",
              "    <tr>\n",
              "      <th>0</th>\n",
              "      <td>Minor_Damage_And_Injuries</td>\n",
              "      <td>49.223744</td>\n",
              "      <td>14</td>\n",
              "      <td>22</td>\n",
              "      <td>71.285324</td>\n",
              "      <td>0.272118</td>\n",
              "      <td>78.04</td>\n",
              "      <td>2</td>\n",
              "      <td>31335.476824</td>\n",
              "      <td>3</td>\n",
              "      <td>0.424352</td>\n",
              "      <td>7570</td>\n",
              "    </tr>\n",
              "    <tr>\n",
              "      <th>1</th>\n",
              "      <td>Minor_Damage_And_Injuries</td>\n",
              "      <td>62.465753</td>\n",
              "      <td>10</td>\n",
              "      <td>27</td>\n",
              "      <td>72.288058</td>\n",
              "      <td>0.423939</td>\n",
              "      <td>84.54</td>\n",
              "      <td>2</td>\n",
              "      <td>26024.711057</td>\n",
              "      <td>2</td>\n",
              "      <td>0.352350</td>\n",
              "      <td>12128</td>\n",
              "    </tr>\n",
              "    <tr>\n",
              "      <th>2</th>\n",
              "      <td>Significant_Damage_And_Fatalities</td>\n",
              "      <td>63.059361</td>\n",
              "      <td>13</td>\n",
              "      <td>16</td>\n",
              "      <td>66.362808</td>\n",
              "      <td>0.322604</td>\n",
              "      <td>78.86</td>\n",
              "      <td>7</td>\n",
              "      <td>39269.053927</td>\n",
              "      <td>3</td>\n",
              "      <td>0.003364</td>\n",
              "      <td>2181</td>\n",
              "    </tr>\n",
              "    <tr>\n",
              "      <th>3</th>\n",
              "      <td>Significant_Damage_And_Serious_Injuries</td>\n",
              "      <td>48.082192</td>\n",
              "      <td>11</td>\n",
              "      <td>9</td>\n",
              "      <td>74.703737</td>\n",
              "      <td>0.337029</td>\n",
              "      <td>81.79</td>\n",
              "      <td>3</td>\n",
              "      <td>42771.499200</td>\n",
              "      <td>1</td>\n",
              "      <td>0.211728</td>\n",
              "      <td>5946</td>\n",
              "    </tr>\n",
              "    <tr>\n",
              "      <th>4</th>\n",
              "      <td>Significant_Damage_And_Fatalities</td>\n",
              "      <td>26.484018</td>\n",
              "      <td>13</td>\n",
              "      <td>25</td>\n",
              "      <td>47.948952</td>\n",
              "      <td>0.541140</td>\n",
              "      <td>77.16</td>\n",
              "      <td>3</td>\n",
              "      <td>35509.228515</td>\n",
              "      <td>2</td>\n",
              "      <td>0.176883</td>\n",
              "      <td>9054</td>\n",
              "    </tr>\n",
              "  </tbody>\n",
              "</table>\n",
              "</div>"
            ],
            "text/plain": [
              "                                  Severity  ...  Accident_ID\n",
              "0                Minor_Damage_And_Injuries  ...         7570\n",
              "1                Minor_Damage_And_Injuries  ...        12128\n",
              "2        Significant_Damage_And_Fatalities  ...         2181\n",
              "3  Significant_Damage_And_Serious_Injuries  ...         5946\n",
              "4        Significant_Damage_And_Fatalities  ...         9054\n",
              "\n",
              "[5 rows x 12 columns]"
            ]
          },
          "metadata": {
            "tags": []
          },
          "execution_count": 12
        }
      ]
    },
    {
      "cell_type": "code",
      "metadata": {
        "id": "PbIeUvkm-JNL",
        "colab_type": "code",
        "colab": {}
      },
      "source": [
        "dep_var = 'Severity'\n",
        "cat_names = ['Accident_Type_Code']\n",
        "cont_names = ['Safety_Score', 'Days_Since_Inspection', 'Total_Safety_Complaints', 'Control_Metric', 'Turbulence_In_gforces', 'Cabin_Temperature', 'Max_Elevation', 'Violations', 'Adverse_Weather_Metric']\n",
        "procs = [FillMissing, Categorify, Normalize]"
      ],
      "execution_count": 0,
      "outputs": []
    },
    {
      "cell_type": "code",
      "metadata": {
        "id": "D2uEQwbGBBm2",
        "colab_type": "code",
        "colab": {}
      },
      "source": [
        "test = TabularList.from_df(df.iloc[0:2000].copy(), path=path, cat_names=cat_names, cont_names=cont_names)"
      ],
      "execution_count": 0,
      "outputs": []
    },
    {
      "cell_type": "code",
      "metadata": {
        "id": "YVT-m5DhBjIy",
        "colab_type": "code",
        "colab": {}
      },
      "source": [
        "data = (TabularList.from_df(df, path=path, cat_names=cat_names, cont_names=cont_names, procs=procs)\n",
        "                           .split_by_idx(list(range(0,2000)))\n",
        "                           .label_from_df(cols=dep_var)\n",
        "                           .add_test(test)\n",
        "                           .databunch())"
      ],
      "execution_count": 0,
      "outputs": []
    },
    {
      "cell_type": "code",
      "metadata": {
        "id": "46y9-dxSBnJG",
        "colab_type": "code",
        "outputId": "abc0504a-0457-491e-f7c2-b2574ce90549",
        "colab": {
          "base_uri": "https://localhost:8080/",
          "height": 367
        }
      },
      "source": [
        "data.show_batch(rows=10)"
      ],
      "execution_count": 0,
      "outputs": [
        {
          "output_type": "display_data",
          "data": {
            "text/html": [
              "<table border=\"1\" class=\"dataframe\">\n",
              "  <thead>\n",
              "    <tr style=\"text-align: right;\">\n",
              "      <th>Accident_Type_Code</th>\n",
              "      <th>Safety_Score</th>\n",
              "      <th>Days_Since_Inspection</th>\n",
              "      <th>Total_Safety_Complaints</th>\n",
              "      <th>Control_Metric</th>\n",
              "      <th>Turbulence_In_gforces</th>\n",
              "      <th>Cabin_Temperature</th>\n",
              "      <th>Max_Elevation</th>\n",
              "      <th>Violations</th>\n",
              "      <th>Adverse_Weather_Metric</th>\n",
              "      <th>target</th>\n",
              "    </tr>\n",
              "  </thead>\n",
              "  <tbody>\n",
              "    <tr>\n",
              "      <td>2</td>\n",
              "      <td>-0.6008</td>\n",
              "      <td>0.5805</td>\n",
              "      <td>1.9527</td>\n",
              "      <td>-0.2636</td>\n",
              "      <td>0.4144</td>\n",
              "      <td>-0.2375</td>\n",
              "      <td>0.7007</td>\n",
              "      <td>0.9590</td>\n",
              "      <td>0.6909</td>\n",
              "      <td>Significant_Damage_And_Serious_Injuries</td>\n",
              "    </tr>\n",
              "    <tr>\n",
              "      <td>4</td>\n",
              "      <td>-0.5809</td>\n",
              "      <td>-0.2666</td>\n",
              "      <td>0.5060</td>\n",
              "      <td>0.1817</td>\n",
              "      <td>-0.6804</td>\n",
              "      <td>-0.6291</td>\n",
              "      <td>-0.8651</td>\n",
              "      <td>-0.9709</td>\n",
              "      <td>-0.5582</td>\n",
              "      <td>Highly_Fatal_And_Damaging</td>\n",
              "    </tr>\n",
              "    <tr>\n",
              "      <td>4</td>\n",
              "      <td>0.4027</td>\n",
              "      <td>-1.6784</td>\n",
              "      <td>0.6507</td>\n",
              "      <td>0.4159</td>\n",
              "      <td>-0.6417</td>\n",
              "      <td>-0.9156</td>\n",
              "      <td>1.2103</td>\n",
              "      <td>0.9590</td>\n",
              "      <td>-0.4648</td>\n",
              "      <td>Highly_Fatal_And_Damaging</td>\n",
              "    </tr>\n",
              "    <tr>\n",
              "      <td>7</td>\n",
              "      <td>0.5586</td>\n",
              "      <td>0.0158</td>\n",
              "      <td>0.2167</td>\n",
              "      <td>0.4389</td>\n",
              "      <td>1.5745</td>\n",
              "      <td>-0.8467</td>\n",
              "      <td>-0.7154</td>\n",
              "      <td>0.9590</td>\n",
              "      <td>-0.6660</td>\n",
              "      <td>Minor_Damage_And_Injuries</td>\n",
              "    </tr>\n",
              "    <tr>\n",
              "      <td>4</td>\n",
              "      <td>-0.5554</td>\n",
              "      <td>0.5805</td>\n",
              "      <td>-0.7960</td>\n",
              "      <td>1.7709</td>\n",
              "      <td>-0.8351</td>\n",
              "      <td>-0.5530</td>\n",
              "      <td>0.7084</td>\n",
              "      <td>0.9590</td>\n",
              "      <td>-0.4882</td>\n",
              "      <td>Significant_Damage_And_Serious_Injuries</td>\n",
              "    </tr>\n",
              "    <tr>\n",
              "      <td>4</td>\n",
              "      <td>-1.0004</td>\n",
              "      <td>0.2982</td>\n",
              "      <td>0.5060</td>\n",
              "      <td>0.4658</td>\n",
              "      <td>-0.8886</td>\n",
              "      <td>-1.1913</td>\n",
              "      <td>-0.7847</td>\n",
              "      <td>-0.9709</td>\n",
              "      <td>-0.5563</td>\n",
              "      <td>Highly_Fatal_And_Damaging</td>\n",
              "    </tr>\n",
              "    <tr>\n",
              "      <td>1</td>\n",
              "      <td>-0.2975</td>\n",
              "      <td>-0.8313</td>\n",
              "      <td>1.0847</td>\n",
              "      <td>0.5732</td>\n",
              "      <td>-0.6506</td>\n",
              "      <td>0.4371</td>\n",
              "      <td>0.4695</td>\n",
              "      <td>1.9240</td>\n",
              "      <td>2.8369</td>\n",
              "      <td>Highly_Fatal_And_Damaging</td>\n",
              "    </tr>\n",
              "    <tr>\n",
              "      <td>2</td>\n",
              "      <td>1.2162</td>\n",
              "      <td>-0.8313</td>\n",
              "      <td>-0.6513</td>\n",
              "      <td>1.5444</td>\n",
              "      <td>-1.1831</td>\n",
              "      <td>0.1143</td>\n",
              "      <td>-0.0660</td>\n",
              "      <td>-0.0059</td>\n",
              "      <td>0.4373</td>\n",
              "      <td>Minor_Damage_And_Injuries</td>\n",
              "    </tr>\n",
              "    <tr>\n",
              "      <td>7</td>\n",
              "      <td>0.2638</td>\n",
              "      <td>0.5805</td>\n",
              "      <td>2.5314</td>\n",
              "      <td>1.4177</td>\n",
              "      <td>-0.5197</td>\n",
              "      <td>2.8451</td>\n",
              "      <td>-1.2413</td>\n",
              "      <td>-0.9709</td>\n",
              "      <td>-0.6668</td>\n",
              "      <td>Minor_Damage_And_Injuries</td>\n",
              "    </tr>\n",
              "    <tr>\n",
              "      <td>4</td>\n",
              "      <td>-1.6071</td>\n",
              "      <td>1.1453</td>\n",
              "      <td>0.7954</td>\n",
              "      <td>1.2642</td>\n",
              "      <td>-0.4751</td>\n",
              "      <td>1.3038</td>\n",
              "      <td>0.3212</td>\n",
              "      <td>-0.0059</td>\n",
              "      <td>-0.5056</td>\n",
              "      <td>Highly_Fatal_And_Damaging</td>\n",
              "    </tr>\n",
              "  </tbody>\n",
              "</table>"
            ],
            "text/plain": [
              "<IPython.core.display.HTML object>"
            ]
          },
          "metadata": {
            "tags": []
          }
        }
      ]
    },
    {
      "cell_type": "code",
      "metadata": {
        "id": "yD29WQ9PKgdd",
        "colab_type": "code",
        "colab": {}
      },
      "source": [
        "f_score = partial(fbeta, thresh=0.2, beta = 1)\n",
        "acc_02 = partial(accuracy_thresh, thresh=0.2)"
      ],
      "execution_count": 0,
      "outputs": []
    },
    {
      "cell_type": "code",
      "metadata": {
        "id": "TaYGptZxBtVi",
        "colab_type": "code",
        "colab": {}
      },
      "source": [
        "learn = tabular_learner(data, layers=[500,100], metrics=accuracy)"
      ],
      "execution_count": 0,
      "outputs": []
    },
    {
      "cell_type": "code",
      "metadata": {
        "id": "s_rNJBLPOt5m",
        "colab_type": "code",
        "outputId": "86417e00-53c0-4eb1-bf27-685162297e7f",
        "colab": {
          "base_uri": "https://localhost:8080/",
          "height": 376
        }
      },
      "source": [
        "learn.lr_find()\n",
        "learn.recorder.plot(skip_end=15)"
      ],
      "execution_count": 0,
      "outputs": [
        {
          "output_type": "display_data",
          "data": {
            "text/html": [
              "\n",
              "    <div>\n",
              "        <style>\n",
              "            /* Turns off some styling */\n",
              "            progress {\n",
              "                /* gets rid of default border in Firefox and Opera. */\n",
              "                border: none;\n",
              "                /* Needs to be in here for Safari polyfill so background images work as expected. */\n",
              "                background-size: auto;\n",
              "            }\n",
              "            .progress-bar-interrupted, .progress-bar-interrupted::-webkit-progress-bar {\n",
              "                background: #F44336;\n",
              "            }\n",
              "        </style>\n",
              "      <progress value='0' class='' max='1', style='width:300px; height:20px; vertical-align: middle;'></progress>\n",
              "      0.00% [0/1 00:00<00:00]\n",
              "    </div>\n",
              "    \n",
              "<table border=\"1\" class=\"dataframe\">\n",
              "  <thead>\n",
              "    <tr style=\"text-align: left;\">\n",
              "      <th>epoch</th>\n",
              "      <th>train_loss</th>\n",
              "      <th>valid_loss</th>\n",
              "      <th>accuracy</th>\n",
              "      <th>time</th>\n",
              "    </tr>\n",
              "  </thead>\n",
              "  <tbody>\n",
              "  </tbody>\n",
              "</table><p>\n",
              "\n",
              "    <div>\n",
              "        <style>\n",
              "            /* Turns off some styling */\n",
              "            progress {\n",
              "                /* gets rid of default border in Firefox and Opera. */\n",
              "                border: none;\n",
              "                /* Needs to be in here for Safari polyfill so background images work as expected. */\n",
              "                background-size: auto;\n",
              "            }\n",
              "            .progress-bar-interrupted, .progress-bar-interrupted::-webkit-progress-bar {\n",
              "                background: #F44336;\n",
              "            }\n",
              "        </style>\n",
              "      <progress value='84' class='' max='125', style='width:300px; height:20px; vertical-align: middle;'></progress>\n",
              "      67.20% [84/125 00:00<00:00 0.4984]\n",
              "    </div>\n",
              "    "
            ],
            "text/plain": [
              "<IPython.core.display.HTML object>"
            ]
          },
          "metadata": {
            "tags": []
          }
        },
        {
          "output_type": "stream",
          "text": [
            "LR Finder is complete, type {learner_name}.recorder.plot() to see the graph.\n"
          ],
          "name": "stdout"
        },
        {
          "output_type": "display_data",
          "data": {
            "image/png": "[encoded data removed]",
            "text/plain": [
              "<Figure size 432x288 with 1 Axes>"
            ]
          },
          "metadata": {
            "tags": []
          }
        }
      ]
    },
    {
      "cell_type": "code",
      "metadata": {
        "id": "nUqpuCLIB4D0",
        "colab_type": "code",
        "outputId": "dbee8880-6209-40ae-b88e-c097df1d9a82",
        "colab": {
          "base_uri": "https://localhost:8080/",
          "height": 197
        }
      },
      "source": [
        "learn.fit(5, 2e-4)"
      ],
      "execution_count": 0,
      "outputs": [
        {
          "output_type": "display_data",
          "data": {
            "text/html": [
              "<table border=\"1\" class=\"dataframe\">\n",
              "  <thead>\n",
              "    <tr style=\"text-align: left;\">\n",
              "      <th>epoch</th>\n",
              "      <th>train_loss</th>\n",
              "      <th>valid_loss</th>\n",
              "      <th>accuracy</th>\n",
              "      <th>time</th>\n",
              "    </tr>\n",
              "  </thead>\n",
              "  <tbody>\n",
              "    <tr>\n",
              "      <td>0</td>\n",
              "      <td>0.236199</td>\n",
              "      <td>0.202805</td>\n",
              "      <td>0.936000</td>\n",
              "      <td>00:01</td>\n",
              "    </tr>\n",
              "    <tr>\n",
              "      <td>1</td>\n",
              "      <td>0.239927</td>\n",
              "      <td>0.202551</td>\n",
              "      <td>0.930000</td>\n",
              "      <td>00:01</td>\n",
              "    </tr>\n",
              "    <tr>\n",
              "      <td>2</td>\n",
              "      <td>0.229330</td>\n",
              "      <td>0.194538</td>\n",
              "      <td>0.936500</td>\n",
              "      <td>00:01</td>\n",
              "    </tr>\n",
              "    <tr>\n",
              "      <td>3</td>\n",
              "      <td>0.225491</td>\n",
              "      <td>0.193114</td>\n",
              "      <td>0.938000</td>\n",
              "      <td>00:01</td>\n",
              "    </tr>\n",
              "    <tr>\n",
              "      <td>4</td>\n",
              "      <td>0.209648</td>\n",
              "      <td>0.199555</td>\n",
              "      <td>0.938000</td>\n",
              "      <td>00:01</td>\n",
              "    </tr>\n",
              "  </tbody>\n",
              "</table>"
            ],
            "text/plain": [
              "<IPython.core.display.HTML object>"
            ]
          },
          "metadata": {
            "tags": []
          }
        }
      ]
    },
    {
      "cell_type": "code",
      "metadata": {
        "id": "jdjCmjQBSYa7",
        "colab_type": "code",
        "outputId": "69eb0710-43d7-405d-b5d5-ebc32a62ee1d",
        "colab": {
          "base_uri": "https://localhost:8080/",
          "height": 16
        }
      },
      "source": [
        "interp = ClassificationInterpretation.from_learner(learn)"
      ],
      "execution_count": 0,
      "outputs": [
        {
          "output_type": "display_data",
          "data": {
            "text/html": [
              ""
            ],
            "text/plain": [
              "<IPython.core.display.HTML object>"
            ]
          },
          "metadata": {
            "tags": []
          }
        }
      ]
    },
    {
      "cell_type": "code",
      "metadata": {
        "id": "K9zgDX3WSas4",
        "colab_type": "code",
        "outputId": "415964ff-8068-46fc-ff52-c7e390d78bd1",
        "colab": {
          "base_uri": "https://localhost:8080/",
          "height": 814
        }
      },
      "source": [
        "interp.plot_confusion_matrix(9, figsize=(15,11))"
      ],
      "execution_count": 0,
      "outputs": [
        {
          "output_type": "display_data",
          "data": {
            "image/png": "[encoded data removed]",
            "text/plain": [
              "<Figure size 1080x792 with 1 Axes>"
            ]
          },
          "metadata": {
            "tags": []
          }
        }
      ]
    },
    {
      "cell_type": "code",
      "metadata": {
        "id": "yISDQvAbD9oS",
        "colab_type": "code",
        "colab": {}
      },
      "source": [
        "learn.save"
      ],
      "execution_count": 0,
      "outputs": []
    },
    {
      "cell_type": "code",
      "metadata": {
        "id": "u_pvZ5uGCypV",
        "colab_type": "code",
        "colab": {}
      },
      "source": [
        "dd = pd.read_csv(path/\"test.csv\")"
      ],
      "execution_count": 0,
      "outputs": []
    },
    {
      "cell_type": "code",
      "metadata": {
        "id": "TYKkWXnXB92K",
        "colab_type": "code",
        "colab": {}
      },
      "source": [
        "row = dd.iloc[0]"
      ],
      "execution_count": 0,
      "outputs": []
    },
    {
      "cell_type": "code",
      "metadata": {
        "id": "hqC_r6viCQBn",
        "colab_type": "code",
        "outputId": "1de2a89f-53a7-49d4-d16c-7c440cfe37be",
        "colab": {
          "base_uri": "https://localhost:8080/",
          "height": 34
        }
      },
      "source": [
        "learn.predict(row)[0]"
      ],
      "execution_count": 0,
      "outputs": [
        {
          "output_type": "execute_result",
          "data": {
            "text/plain": [
              "Category Highly_Fatal_And_Damaging"
            ]
          },
          "metadata": {
            "tags": []
          },
          "execution_count": 29
        }
      ]
    },
    {
      "cell_type": "code",
      "metadata": {
        "id": "PWiPh9TSCS9m",
        "colab_type": "code",
        "colab": {}
      },
      "source": [
        "predictions = []\n",
        "acc_id = []\n",
        "for i in range(len(dd['Accident_ID'])):\n",
        "  row = dd.iloc[i]\n",
        "  pred = learn.predict(row)[0]\n",
        "  predictions.append(pred)\n",
        "  acc_id.append(dd['Accident_ID'][i])"
      ],
      "execution_count": 0,
      "outputs": []
    },
    {
      "cell_type": "code",
      "metadata": {
        "id": "8xb_NU4rFAOV",
        "colab_type": "code",
        "colab": {}
      },
      "source": [
        "pred_series = pd.Series(predictions)\n",
        "acc_id_series = pd.Series(acc_id)"
      ],
      "execution_count": 0,
      "outputs": []
    },
    {
      "cell_type": "code",
      "metadata": {
        "id": "IAg5CBxUFNZn",
        "colab_type": "code",
        "colab": {}
      },
      "source": [
        "frame = {'Accident_ID':acc_id_series, 'Severity':pred_series}\n",
        "d = pd.DataFrame(frame)"
      ],
      "execution_count": 0,
      "outputs": []
    },
    {
      "cell_type": "code",
      "metadata": {
        "id": "aFXEo1_nGOLx",
        "colab_type": "code",
        "outputId": "07ee40ed-60b8-44a5-b76f-0143f73d6215",
        "colab": {
          "base_uri": "https://localhost:8080/",
          "height": 197
        }
      },
      "source": [
        "d.head()"
      ],
      "execution_count": 0,
      "outputs": [
        {
          "output_type": "execute_result",
          "data": {
            "text/html": [
              "<div>\n",
              "<style scoped>\n",
              "    .dataframe tbody tr th:only-of-type {\n",
              "        vertical-align: middle;\n",
              "    }\n",
              "\n",
              "    .dataframe tbody tr th {\n",
              "        vertical-align: top;\n",
              "    }\n",
              "\n",
              "    .dataframe thead th {\n",
              "        text-align: right;\n",
              "    }\n",
              "</style>\n",
              "<table border=\"1\" class=\"dataframe\">\n",
              "  <thead>\n",
              "    <tr style=\"text-align: right;\">\n",
              "      <th></th>\n",
              "      <th>Accident_ID</th>\n",
              "      <th>Severity</th>\n",
              "    </tr>\n",
              "  </thead>\n",
              "  <tbody>\n",
              "    <tr>\n",
              "      <th>0</th>\n",
              "      <td>1</td>\n",
              "      <td>Highly_Fatal_And_Damaging</td>\n",
              "    </tr>\n",
              "    <tr>\n",
              "      <th>1</th>\n",
              "      <td>10</td>\n",
              "      <td>Significant_Damage_And_Fatalities</td>\n",
              "    </tr>\n",
              "    <tr>\n",
              "      <th>2</th>\n",
              "      <td>14</td>\n",
              "      <td>Significant_Damage_And_Serious_Injuries</td>\n",
              "    </tr>\n",
              "    <tr>\n",
              "      <th>3</th>\n",
              "      <td>17</td>\n",
              "      <td>Highly_Fatal_And_Damaging</td>\n",
              "    </tr>\n",
              "    <tr>\n",
              "      <th>4</th>\n",
              "      <td>21</td>\n",
              "      <td>Highly_Fatal_And_Damaging</td>\n",
              "    </tr>\n",
              "  </tbody>\n",
              "</table>\n",
              "</div>"
            ],
            "text/plain": [
              "   Accident_ID                                 Severity\n",
              "0            1                Highly_Fatal_And_Damaging\n",
              "1           10        Significant_Damage_And_Fatalities\n",
              "2           14  Significant_Damage_And_Serious_Injuries\n",
              "3           17                Highly_Fatal_And_Damaging\n",
              "4           21                Highly_Fatal_And_Damaging"
            ]
          },
          "metadata": {
            "tags": []
          },
          "execution_count": 129
        }
      ]
    },
    {
      "cell_type": "code",
      "metadata": {
        "id": "xASOCV7kGPzJ",
        "colab_type": "code",
        "colab": {}
      },
      "source": [
        "d.to_csv('result.csv')"
      ],
      "execution_count": 0,
      "outputs": []
    },
    {
      "cell_type": "code",
      "metadata": {
        "id": "_bh8-eMkIF5w",
        "colab_type": "code",
        "colab": {}
      },
      "source": [
        ""
      ],
      "execution_count": 0,
      "outputs": []
    }
  ]
}